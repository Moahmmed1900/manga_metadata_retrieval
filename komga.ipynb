{
 "cells": [
  {
   "cell_type": "code",
   "execution_count": 1,
   "metadata": {},
   "outputs": [],
   "source": [
    "from komga.komga_connector import KomgaConnector"
   ]
  },
  {
   "cell_type": "code",
   "execution_count": 2,
   "metadata": {},
   "outputs": [],
   "source": [
    "komga_session = KomgaConnector()"
   ]
  },
  {
   "cell_type": "code",
   "execution_count": 3,
   "metadata": {},
   "outputs": [
    {
     "data": {
      "text/plain": [
       "[{'id': '0BRVYVT1FHK5A',\n",
       "  'name': 'Webtoon And Manga',\n",
       "  'root': '',\n",
       "  'importComicInfoBook': False,\n",
       "  'importComicInfoSeries': True,\n",
       "  'importComicInfoCollection': False,\n",
       "  'importComicInfoReadList': False,\n",
       "  'importComicInfoSeriesAppendVolume': False,\n",
       "  'importEpubBook': True,\n",
       "  'importEpubSeries': True,\n",
       "  'importMylarSeries': True,\n",
       "  'importLocalArtwork': True,\n",
       "  'importBarcodeIsbn': False,\n",
       "  'scanForceModifiedTime': False,\n",
       "  'scanDeep': True,\n",
       "  'repairExtensions': False,\n",
       "  'convertToCbz': False,\n",
       "  'emptyTrashAfterScan': False,\n",
       "  'seriesCover': 'FIRST',\n",
       "  'hashFiles': True,\n",
       "  'hashPages': False,\n",
       "  'analyzeDimensions': True,\n",
       "  'unavailable': False}]"
      ]
     },
     "execution_count": 3,
     "metadata": {},
     "output_type": "execute_result"
    }
   ],
   "source": [
    "komga_session.get_all_libraries()"
   ]
  },
  {
   "cell_type": "code",
   "execution_count": 4,
   "metadata": {},
   "outputs": [
    {
     "data": {
      "text/plain": [
       "29"
      ]
     },
     "execution_count": 4,
     "metadata": {},
     "output_type": "execute_result"
    }
   ],
   "source": [
    "len(komga_session.get_all_series(\"0BRVYVT1FHK5A\"))"
   ]
  }
 ],
 "metadata": {
  "kernelspec": {
   "display_name": ".venv",
   "language": "python",
   "name": "python3"
  },
  "language_info": {
   "codemirror_mode": {
    "name": "ipython",
    "version": 3
   },
   "file_extension": ".py",
   "mimetype": "text/x-python",
   "name": "python",
   "nbconvert_exporter": "python",
   "pygments_lexer": "ipython3",
   "version": "3.10.10"
  },
  "orig_nbformat": 4
 },
 "nbformat": 4,
 "nbformat_minor": 2
}
