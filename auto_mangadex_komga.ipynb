{
 "cells": [
  {
   "cell_type": "code",
   "execution_count": 1,
   "metadata": {},
   "outputs": [],
   "source": [
    "from providers.mangadex import MangaDex, ProviderExceptions\n",
    "from komga.komga_connector import KomgaConnector\n",
    "import time\n",
    "\n",
    "komga_session = KomgaConnector()"
   ]
  },
  {
   "cell_type": "code",
   "execution_count": 10,
   "metadata": {},
   "outputs": [],
   "source": [
    "from IPython.display import clear_output"
   ]
  },
  {
   "cell_type": "code",
   "execution_count": 11,
   "metadata": {},
   "outputs": [],
   "source": [
    "series = komga_session.get_all_series(\"0BRVYVT1FHK5A\")"
   ]
  },
  {
   "cell_type": "code",
   "execution_count": 12,
   "metadata": {},
   "outputs": [],
   "source": [
    "def missing_metadata(komga_dict) -> bool:\n",
    "    if(komga_dict[\"metadata\"][\"summary\"] != \"\"):\n",
    "        return False\n",
    "    \n",
    "    if(komga_dict[\"metadata\"][\"genres\"] != []):\n",
    "        return False\n",
    "    \n",
    "    if(komga_dict[\"metadata\"][\"tags\"] != []):\n",
    "        return False\n",
    "    \n",
    "    return True"
   ]
  },
  {
   "cell_type": "code",
   "execution_count": 13,
   "metadata": {},
   "outputs": [],
   "source": [
    "def ask_prompt(prompt:str):\n",
    "    yes_inputs = [\"yes\", \"y\"]\n",
    "    no_inputs = [\"no\", \"n\"]\n",
    "    while(True):\n",
    "        user_input = input(prompt).lower()\n",
    "\n",
    "        if(user_input in yes_inputs):\n",
    "            return True\n",
    "        \n",
    "        if(user_input in no_inputs):\n",
    "            return False\n",
    "    "
   ]
  },
  {
   "cell_type": "code",
   "execution_count": 14,
   "metadata": {},
   "outputs": [],
   "source": [
    "series_missing_metadata = list(filter(missing_metadata, series))"
   ]
  },
  {
   "cell_type": "code",
   "execution_count": 15,
   "metadata": {},
   "outputs": [
    {
     "data": {
      "text/plain": [
       "4"
      ]
     },
     "execution_count": 15,
     "metadata": {},
     "output_type": "execute_result"
    }
   ],
   "source": [
    "len(series_missing_metadata)"
   ]
  },
  {
   "cell_type": "code",
   "execution_count": null,
   "metadata": {},
   "outputs": [],
   "source": [
    "for komga_manga in series_missing_metadata:\n",
    "    found_in_mangaDex = MangaDex.search_manga(komga_manga[\"metadata\"][\"title\"])\n",
    "\n",
    "    if(found_in_mangaDex == []):\n",
    "        print(f\"No matches for: {komga_manga['metadata']['title']}\")\n",
    "        time.sleep(5)\n",
    "        clear_output(wait=True)\n",
    "    else:\n",
    "        for match in found_in_mangaDex:\n",
    "            print(f\"Komga title: {komga_manga['metadata']['title']}\")\n",
    "            manga = MangaDex(match)\n",
    "            \n",
    "            try:\n",
    "                manga_metadata = manga.get_metadata()\n",
    "            except ProviderExceptions as e:\n",
    "                print(e)\n",
    "                continue\n",
    "\n",
    "            print(f\"MangaDex Title: {manga_metadata.titles['main']}\")\n",
    "            display(manga_metadata.cover_art)\n",
    "            apply_metadata = ask_prompt(\"Apply this metadata? (y)es/(n)o\")\n",
    "            if(apply_metadata):\n",
    "                komga_session.update_series_metadata(komga_manga[\"id\"], manga_metadata)\n",
    "                break\n",
    "            \n",
    "            clear_output(wait=True)\n",
    "        \n",
    "        clear_output(wait=True)\n",
    "    "
   ]
  }
 ],
 "metadata": {
  "kernelspec": {
   "display_name": ".venv",
   "language": "python",
   "name": "python3"
  },
  "language_info": {
   "codemirror_mode": {
    "name": "ipython",
    "version": 3
   },
   "file_extension": ".py",
   "mimetype": "text/x-python",
   "name": "python",
   "nbconvert_exporter": "python",
   "pygments_lexer": "ipython3",
   "version": "3.10.10"
  },
  "orig_nbformat": 4
 },
 "nbformat": 4,
 "nbformat_minor": 2
}
